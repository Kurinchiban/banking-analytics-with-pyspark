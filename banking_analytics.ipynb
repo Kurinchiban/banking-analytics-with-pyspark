{
 "cells": [
  {
   "cell_type": "code",
   "execution_count": 3,
   "metadata": {},
   "outputs": [
    {
     "name": "stderr",
     "output_type": "stream",
     "text": [
      "25/04/03 19:40:46 WARN SizeEstimator: Failed to check whether UseCompressedOops is set; assuming yes\n",
      "                                                                                \r"
     ]
    }
   ],
   "source": [
    "from pyspark.sql import SparkSession\n",
    "\n",
    "spark = SparkSession.builder.appName(\"banking_analytics\").master('local[*]').getOrCreate()\n",
    "\n",
    "credit_db = spark.read.csv('/home/kurinchiban/Desktop/banking-analytics-with-pyspark/datasets/credit_card.csv', header=True, inferSchema=True)\n"
   ]
  },
  {
   "cell_type": "markdown",
   "metadata": {},
   "source": [
    "What is the distribution of customers based on age and geography?\n",
    "Are there any regions with higher numbers of young or older customers?"
   ]
  },
  {
   "cell_type": "code",
   "execution_count": 5,
   "metadata": {},
   "outputs": [
    {
     "name": "stderr",
     "output_type": "stream",
     "text": [
      "                                                                                \r"
     ]
    },
    {
     "name": "stdout",
     "output_type": "stream",
     "text": [
      "+---------+-----------+-------------+\n",
      "|Geography|   AgeGroup|CustomerCount|\n",
      "+---------+-----------+-------------+\n",
      "|   France|      Young|         1038|\n",
      "|    Spain|Middle-aged|         1693|\n",
      "|    Spain|      Young|          477|\n",
      "|   France|     Senior|          598|\n",
      "|  Germany|     Senior|          356|\n",
      "|   France|Middle-aged|         3378|\n",
      "|  Germany|Middle-aged|         1700|\n",
      "|  Germany|      Young|          453|\n",
      "|    Spain|     Senior|          307|\n",
      "+---------+-----------+-------------+\n",
      "\n",
      "The France is having lot of Middle-aged peoples\n"
     ]
    }
   ],
   "source": [
    "from pyspark.sql import functions as F\n",
    "from pyspark.sql.functions import udf\n",
    "from pyspark.sql.types import StringType\n",
    "\n",
    "age_ranges = [\n",
    "    (18, 30, \"Young\"),\n",
    "    (31, 50, \"Middle-aged\"),\n",
    "    (51, 100, \"Senior\")\n",
    "]\n",
    "\n",
    "def categorize_age(age):\n",
    "    for min_age, max_age, category in age_ranges:\n",
    "        if min_age <= age <= max_age:\n",
    "            return category\n",
    "    return \"Unknown\"\n",
    "\n",
    "categorize_age_udf = udf(categorize_age, StringType())\n",
    "\n",
    "df_with_age_group = credit_db.withColumn(\"AgeGroup\", categorize_age_udf(credit_db['Age']))\n",
    "\n",
    "age_group_distribution_by_geography = df_with_age_group.groupBy('Geography', 'AgeGroup').agg(\n",
    "    F.count('CustomerId').alias('CustomerCount')\n",
    ")\n",
    "\n",
    "age_group_distribution_by_geography.show()\n",
    "\n",
    "\n",
    "max_customer_row = age_group_distribution_by_geography.orderBy(F.desc('CustomerCount')).first()\n",
    "\n",
    "print(f'The {max_customer_row[0]} is having lot of {max_customer_row[1]} peoples')"
   ]
  },
  {
   "cell_type": "markdown",
   "metadata": {},
   "source": [
    "Write a PySpark query to filter out all active customers (IsActiveMember = 1) and return the relevant customer details."
   ]
  },
  {
   "cell_type": "code",
   "execution_count": 6,
   "metadata": {},
   "outputs": [
    {
     "name": "stdout",
     "output_type": "stream",
     "text": [
      "+---------------+-----------------+\n",
      "|   MemberStatus|MemberStatusCount|\n",
      "+---------------+-----------------+\n",
      "|NotActiveMember|             4849|\n",
      "|   ActiveMember|             5151|\n",
      "+---------------+-----------------+\n",
      "\n"
     ]
    }
   ],
   "source": [
    "def categorize_member(value):\n",
    "    if value == 1:\n",
    "        return \"ActiveMember\"\n",
    "    else:\n",
    "        return \"NotActiveMember\"\n",
    "    \n",
    "udf_categorize_age = udf(categorize_member, StringType())\n",
    "\n",
    "active_member_df = credit_db.withColumn('MemberStatus',udf_categorize_age(credit_db['IsActiveMember']))\n",
    "\n",
    "member_status = active_member_df.groupBy('MemberStatus').agg(F.count(\"*\").alias(\"MemberStatusCount\"))\n",
    "\n",
    "member_status.show()"
   ]
  },
  {
   "cell_type": "markdown",
   "metadata": {},
   "source": [
    "Write a PySpark query to find all customers with a credit score greater than 700, and return their CustomerId, Surname, CreditScore, and Age."
   ]
  },
  {
   "cell_type": "code",
   "execution_count": 49,
   "metadata": {},
   "outputs": [
    {
     "name": "stdout",
     "output_type": "stream",
     "text": [
      "+----------+----------+-----------+---+\n",
      "|CustomerId|   Surname|CreditScore|Age|\n",
      "+----------+----------+-----------+---+\n",
      "|  15737888|  Mitchell|        850| 43|\n",
      "|  15592531|  Bartlett|        822| 50|\n",
      "|  15568982|       Hao|        726| 24|\n",
      "|  15577657|  McDonald|        732| 41|\n",
      "|  15625047|       Yen|        846| 38|\n",
      "|  15736816|     Young|        756| 36|\n",
      "|  15732963|  Clements|        722| 29|\n",
      "|  15729599|   Lorenzo|        804| 33|\n",
      "|  15717426| Armstrong|        850| 36|\n",
      "|  15755196|    Lavine|        834| 49|\n",
      "|  15754849|     Tyler|        776| 32|\n",
      "|  15602280|    Martin|        829| 27|\n",
      "|  15771873|    Buccho|        776| 37|\n",
      "|  15683553|   O'Brien|        788| 33|\n",
      "|  15647091|  Endrizzi|        725| 19|\n",
      "|  15651280|    Hunter|        742| 35|\n",
      "|  15789484|   Hammond|        751| 36|\n",
      "|  15641582|   Chibugo|        735| 43|\n",
      "|  15703793|Konovalova|        738| 58|\n",
      "|  15620344|     McKee|        813| 29|\n",
      "+----------+----------+-----------+---+\n",
      "only showing top 20 rows\n",
      "\n"
     ]
    }
   ],
   "source": [
    "filtered_df = credit_db.filter(F.col(\"CreditScore\") > 700)\n",
    "\n",
    "result_df = filtered_df.select(\"CustomerId\", \"Surname\", \"CreditScore\", \"Age\")\n",
    "\n",
    "result_df.show()"
   ]
  },
  {
   "cell_type": "markdown",
   "metadata": {},
   "source": [
    "Group the customers by geography and calculate the average credit Score for each geography."
   ]
  },
  {
   "cell_type": "code",
   "execution_count": 9,
   "metadata": {},
   "outputs": [
    {
     "name": "stdout",
     "output_type": "stream",
     "text": [
      "+---------+--------------+\n",
      "|Geography|average_income|\n",
      "+---------+--------------+\n",
      "|  Germany|        651.45|\n",
      "|   France|        649.67|\n",
      "|    Spain|        651.33|\n",
      "+---------+--------------+\n",
      "\n"
     ]
    }
   ],
   "source": [
    "geography_df = credit_db.groupBy('Geography').agg(F.round(F.avg(F.col(\"CreditScore\")),2).alias('average_income')).show()"
   ]
  }
 ],
 "metadata": {
  "kernelspec": {
   "display_name": "Python 3",
   "language": "python",
   "name": "python3"
  },
  "language_info": {
   "codemirror_mode": {
    "name": "ipython",
    "version": 3
   },
   "file_extension": ".py",
   "mimetype": "text/x-python",
   "name": "python",
   "nbconvert_exporter": "python",
   "pygments_lexer": "ipython3",
   "version": "3.10.12"
  }
 },
 "nbformat": 4,
 "nbformat_minor": 2
}
